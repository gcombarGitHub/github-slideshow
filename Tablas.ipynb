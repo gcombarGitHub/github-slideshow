{
  "nbformat": 4,
  "nbformat_minor": 0,
  "metadata": {
    "colab": {
      "name": "Tablas.ipynb",
      "provenance": [],
      "authorship_tag": "ABX9TyN+gTxm3KODRwHpbhN8qAX+",
      "include_colab_link": true
    },
    "kernelspec": {
      "display_name": "R",
      "name": "ir"
    }
  },
  "cells": [
    {
      "cell_type": "markdown",
      "metadata": {
        "id": "view-in-github",
        "colab_type": "text"
      },
      "source": [
        "<a href=\"https://colab.research.google.com/github/gcombarGitHub/github-slideshow/blob/master/Tablas.ipynb\" target=\"_parent\"><img src=\"https://colab.research.google.com/assets/colab-badge.svg\" alt=\"Open In Colab\"/></a>"
      ]
    },
    {
      "cell_type": "markdown",
      "metadata": {
        "id": "fPuloVJjp2VN"
      },
      "source": [
        "# Tablas de frecuencia\n",
        "Las tablas de frecuencia son muy utilizadas en estadística y R permite crear tablas de una forma sencilla. En este capítulo se explican las principales funciones para la elaboración de tablas.\n",
        "\n"
      ]
    },
    {
      "cell_type": "markdown",
      "metadata": {
        "id": "pNWFI-0OqCyT"
      },
      "source": [
        "#Ejemplo \n",
        "tabla de frecuencia de una vía"
      ]
    },
    {
      "cell_type": "code",
      "metadata": {
        "id": "BlVtJfgpp81Y"
      },
      "source": [
        "#@title Cargamos los datos\n",
        "\n",
        "fuma <- c('Frecuente', 'Nunca', 'A veces', 'A veces', 'A veces',\n",
        "          'Nunca', 'Frecuente', NA, 'Frecuente', NA, 'hola', \n",
        "          'Nunca', 'Hola', 'Frecuente', 'Nunca')"
      ],
      "execution_count": 1,
      "outputs": []
    },
    {
      "cell_type": "code",
      "metadata": {
        "colab": {
          "base_uri": "https://localhost:8080/",
          "height": 34
        },
        "id": "Fo-Nz3Huglca",
        "outputId": "15ea4e8c-574d-4cd5-c898-ca5de5321543"
      },
      "source": [
        "fuma[15]"
      ],
      "execution_count": 2,
      "outputs": [
        {
          "output_type": "display_data",
          "data": {
            "text/plain": [
              "[1] \"Nunca\""
            ],
            "text/latex": "'Nunca'",
            "text/markdown": "'Nunca'",
            "text/html": [
              "'Nunca'"
            ]
          },
          "metadata": {
            "tags": []
          }
        }
      ]
    },
    {
      "cell_type": "code",
      "metadata": {
        "id": "oASGJIASqQTM",
        "colab": {
          "base_uri": "https://localhost:8080/",
          "height": 68
        },
        "outputId": "c6ac8377-ec87-4e7f-d803-fa9093ab9502"
      },
      "source": [
        "table(fuma)\n"
      ],
      "execution_count": 3,
      "outputs": [
        {
          "output_type": "display_data",
          "data": {
            "text/plain": [
              "fuma\n",
              "  A veces Frecuente      hola      Hola     Nunca \n",
              "        3         4         1         1         4 "
            ]
          },
          "metadata": {
            "tags": []
          }
        }
      ]
    },
    {
      "cell_type": "code",
      "metadata": {
        "colab": {
          "base_uri": "https://localhost:8080/",
          "height": 34
        },
        "id": "43smypWchE0n",
        "outputId": "818716e9-325a-4d45-f136-b03e27d41195"
      },
      "source": [
        "sum(table(fuma))"
      ],
      "execution_count": 4,
      "outputs": [
        {
          "output_type": "display_data",
          "data": {
            "text/plain": [
              "[1] 13"
            ],
            "text/latex": "13",
            "text/markdown": "13",
            "text/html": [
              "13"
            ]
          },
          "metadata": {
            "tags": []
          }
        }
      ]
    },
    {
      "cell_type": "code",
      "metadata": {
        "id": "MlA-BAUpqTGE",
        "colab": {
          "base_uri": "https://localhost:8080/",
          "height": 68
        },
        "outputId": "14adfcea-1729-46c8-9fe9-80a9e0e084fb"
      },
      "source": [
        "table(fuma, useNA='always')\n"
      ],
      "execution_count": 5,
      "outputs": [
        {
          "output_type": "display_data",
          "data": {
            "text/plain": [
              "fuma\n",
              "  A veces Frecuente      hola      Hola     Nunca      <NA> \n",
              "        3         4         1         1         4         2 "
            ]
          },
          "metadata": {
            "tags": []
          }
        }
      ]
    },
    {
      "cell_type": "code",
      "metadata": {
        "id": "4v1leY04qXK8",
        "colab": {
          "base_uri": "https://localhost:8080/",
          "height": 68
        },
        "outputId": "eccef266-e738-4f0d-ad66-40d610d67bad"
      },
      "source": [
        "table(fuma, exclude=c('Hola', 'hola'))\n"
      ],
      "execution_count": 6,
      "outputs": [
        {
          "output_type": "display_data",
          "data": {
            "text/plain": [
              "fuma\n",
              "  A veces Frecuente     Nunca      <NA> \n",
              "        3         4         4         2 "
            ]
          },
          "metadata": {
            "tags": []
          }
        }
      ]
    },
    {
      "cell_type": "code",
      "metadata": {
        "id": "pfqTYX1OqdOc",
        "colab": {
          "base_uri": "https://localhost:8080/",
          "height": 68
        },
        "outputId": "62a74846-ba50-46df-b177-46e0cbbe2051"
      },
      "source": [
        "tabla1 <- table(fuma, exclude=c('Hola', 'hola', NA))\n",
        "tabla1"
      ],
      "execution_count": 7,
      "outputs": [
        {
          "output_type": "display_data",
          "data": {
            "text/plain": [
              "fuma\n",
              "  A veces Frecuente     Nunca \n",
              "        3         4         4 "
            ]
          },
          "metadata": {
            "tags": []
          }
        }
      ]
    },
    {
      "cell_type": "code",
      "metadata": {
        "colab": {
          "base_uri": "https://localhost:8080/",
          "height": 437
        },
        "id": "DTK4GhoREgCA",
        "outputId": "e6e5364f-c28b-44c9-ae0c-4e0996ba6a05"
      },
      "source": [
        "barplot(tabla1)"
      ],
      "execution_count": 24,
      "outputs": [
        {
          "output_type": "display_data",
          "data": {
            "image/png": "[encoded data removed]",
            "text/plain": [
              "plot without title"
            ]
          },
          "metadata": {
            "tags": [],
            "image/png": {
              "width": 420,
              "height": 420
            }
          }
        }
      ]
    },
    {
      "cell_type": "code",
      "metadata": {
        "colab": {
          "base_uri": "https://localhost:8080/",
          "height": 437
        },
        "id": "ABGFYzWUEuAI",
        "outputId": "ac3a35cf-5228-484b-ce4c-3ec5caf0d6e8"
      },
      "source": [
        "pie(tabla1) #angulo = n_i x 360"
      ],
      "execution_count": 25,
      "outputs": [
        {
          "output_type": "display_data",
          "data": {
            "image/png": "[encoded data removed]",
            "text/plain": [
              "plot without title"
            ]
          },
          "metadata": {
            "tags": [],
            "image/png": {
              "width": 420,
              "height": 420
            }
          }
        }
      ]
    },
    {
      "cell_type": "markdown",
      "metadata": {
        "id": "LiO3VVl9qhRU"
      },
      "source": [
        "#Ejemplo\n",
        "tabla de frecuencia de dos vías\n"
      ]
    },
    {
      "cell_type": "code",
      "metadata": {
        "id": "nmCtfUR0qkvq"
      },
      "source": [
        "sexo <- c('Hombre', 'Hombre', 'Hombre', NA, 'Mujer',\n",
        "          'Casa', 'Mujer', 'Mujer', 'Mujer', 'Hombre', 'Mujer', \n",
        "          'Hombre', NA, 'Mujer', 'Mujer')"
      ],
      "execution_count": 9,
      "outputs": []
    },
    {
      "cell_type": "code",
      "metadata": {
        "id": "MCnvWz4mqwBm",
        "colab": {
          "base_uri": "https://localhost:8080/",
          "height": 102
        },
        "outputId": "75984d24-bcf3-4cc1-b602-ecf44e3444d4"
      },
      "source": [
        "table(sexo, fuma)\n"
      ],
      "execution_count": 10,
      "outputs": [
        {
          "output_type": "display_data",
          "data": {
            "text/plain": [
              "        fuma\n",
              "sexo     A veces Frecuente hola Hola Nunca\n",
              "  Casa         0         0    0    0     1\n",
              "  Hombre       1         1    0    0     2\n",
              "  Mujer        1         3    1    0     1"
            ]
          },
          "metadata": {
            "tags": []
          }
        }
      ]
    },
    {
      "cell_type": "code",
      "metadata": {
        "id": "KWeN437dq9GA",
        "colab": {
          "base_uri": "https://localhost:8080/",
          "height": 85
        },
        "outputId": "839d02b1-dfa6-445a-b3e9-e8c8ae3e255e"
      },
      "source": [
        "tabla2 <- table(sexo, fuma, exclude=c('Hola', 'hola', 'Casa', NA))\n",
        "tabla2"
      ],
      "execution_count": 11,
      "outputs": [
        {
          "output_type": "display_data",
          "data": {
            "text/plain": [
              "        fuma\n",
              "sexo     A veces Frecuente Nunca\n",
              "  Hombre       1         1     2\n",
              "  Mujer        1         3     1"
            ]
          },
          "metadata": {
            "tags": []
          }
        }
      ]
    },
    {
      "cell_type": "markdown",
      "metadata": {
        "id": "8noZh6OyrCYO"
      },
      "source": [
        "#Función prop.table"
      ]
    },
    {
      "cell_type": "code",
      "metadata": {
        "colab": {
          "base_uri": "https://localhost:8080/",
          "height": 68
        },
        "id": "mQ11TULvir0i",
        "outputId": "2ef88d7d-44ef-4a96-d434-409295809d8a"
      },
      "source": [
        "tabla1"
      ],
      "execution_count": 12,
      "outputs": [
        {
          "output_type": "display_data",
          "data": {
            "text/plain": [
              "fuma\n",
              "  A veces Frecuente     Nunca \n",
              "        3         4         4 "
            ]
          },
          "metadata": {
            "tags": []
          }
        }
      ]
    },
    {
      "cell_type": "code",
      "metadata": {
        "colab": {
          "base_uri": "https://localhost:8080/",
          "height": 34
        },
        "id": "2pSB9B1lixiB",
        "outputId": "c81973ad-ae70-44b2-a84b-77bcf7da7370"
      },
      "source": [
        "4/(3+4+4)"
      ],
      "execution_count": 13,
      "outputs": [
        {
          "output_type": "display_data",
          "data": {
            "text/plain": [
              "[1] 0.3636364"
            ],
            "text/latex": "0.363636363636364",
            "text/markdown": "0.363636363636364",
            "text/html": [
              "0.363636363636364"
            ]
          },
          "metadata": {
            "tags": []
          }
        }
      ]
    },
    {
      "cell_type": "code",
      "metadata": {
        "id": "3IHcFo0aq_zU",
        "colab": {
          "base_uri": "https://localhost:8080/",
          "height": 68
        },
        "outputId": "3cdd37d9-d1e1-4c7a-c227-f11c9f1b7111"
      },
      "source": [
        "prop.table(x=tabla1)\n"
      ],
      "execution_count": 14,
      "outputs": [
        {
          "output_type": "display_data",
          "data": {
            "text/plain": [
              "fuma\n",
              "  A veces Frecuente     Nunca \n",
              "0.2727273 0.3636364 0.3636364 "
            ]
          },
          "metadata": {
            "tags": []
          }
        }
      ]
    },
    {
      "cell_type": "markdown",
      "metadata": {
        "id": "YjJKBDkArMn1"
      },
      "source": [
        "#Ejemplo\n",
        "tabla de frecuencia relativa de dos vías\n"
      ]
    },
    {
      "cell_type": "code",
      "metadata": {
        "colab": {
          "base_uri": "https://localhost:8080/",
          "height": 85
        },
        "id": "dftDwtB2jLve",
        "outputId": "d9a3af84-3638-4c02-aa49-06d26ee8c532"
      },
      "source": [
        "tabla2"
      ],
      "execution_count": 15,
      "outputs": [
        {
          "output_type": "display_data",
          "data": {
            "text/plain": [
              "        fuma\n",
              "sexo     A veces Frecuente Nunca\n",
              "  Hombre       1         1     2\n",
              "  Mujer        1         3     1"
            ]
          },
          "metadata": {
            "tags": []
          }
        }
      ]
    },
    {
      "cell_type": "code",
      "metadata": {
        "id": "HQ8WLNycrOm1",
        "colab": {
          "base_uri": "https://localhost:8080/",
          "height": 85
        },
        "outputId": "2d6465e7-0382-4b23-a214-aa7e759ec50e"
      },
      "source": [
        "tabla3 <- prop.table(x=tabla2)\n",
        "tabla3"
      ],
      "execution_count": 16,
      "outputs": [
        {
          "output_type": "display_data",
          "data": {
            "text/plain": [
              "        fuma\n",
              "sexo       A veces Frecuente     Nunca\n",
              "  Hombre 0.1111111 0.1111111 0.2222222\n",
              "  Mujer  0.1111111 0.3333333 0.1111111"
            ]
          },
          "metadata": {
            "tags": []
          }
        }
      ]
    },
    {
      "cell_type": "markdown",
      "metadata": {
        "id": "ixgjZ36RrXMR"
      },
      "source": [
        "Si se desea la tabla de frecuencias relativas marginal por columnas se usa el siguiente código.\n",
        "\n"
      ]
    },
    {
      "cell_type": "code",
      "metadata": {
        "colab": {
          "base_uri": "https://localhost:8080/",
          "height": 85
        },
        "id": "VROpAywGj5gJ",
        "outputId": "6d3fdb3a-4095-4a31-a94c-7ef63fc6f562"
      },
      "source": [
        "tabla2"
      ],
      "execution_count": 17,
      "outputs": [
        {
          "output_type": "display_data",
          "data": {
            "text/plain": [
              "        fuma\n",
              "sexo     A veces Frecuente Nunca\n",
              "  Hombre       1         1     2\n",
              "  Mujer        1         3     1"
            ]
          },
          "metadata": {
            "tags": []
          }
        }
      ]
    },
    {
      "cell_type": "code",
      "metadata": {
        "id": "0goWcZJbrXoW",
        "colab": {
          "base_uri": "https://localhost:8080/",
          "height": 85
        },
        "outputId": "c788f327-24f1-4aa2-95fa-6e12b75db787"
      },
      "source": [
        "tabla4 <- prop.table(x=tabla2, margin=1) # 1 es por filas. 2 es por columnas. \n",
        "tabla4"
      ],
      "execution_count": 18,
      "outputs": [
        {
          "output_type": "display_data",
          "data": {
            "text/plain": [
              "        fuma\n",
              "sexo     A veces Frecuente Nunca\n",
              "  Hombre    0.25      0.25  0.50\n",
              "  Mujer     0.20      0.60  0.20"
            ]
          },
          "metadata": {
            "tags": []
          }
        }
      ]
    },
    {
      "cell_type": "markdown",
      "metadata": {
        "id": "SmbeN1LnrZ_F"
      },
      "source": [
        "#Función addmargins \n",
        "Esta función se puede utilizar para agregar los totales por filas o por columnas a una tabla de frecuencia absoluta o relativa"
      ]
    },
    {
      "cell_type": "code",
      "metadata": {
        "colab": {
          "base_uri": "https://localhost:8080/",
          "height": 85
        },
        "id": "ghebGh_ykg13",
        "outputId": "d738fbdd-a8b9-4eb2-ad60-a0e59e73e6ef"
      },
      "source": [
        "tabla3"
      ],
      "execution_count": 19,
      "outputs": [
        {
          "output_type": "display_data",
          "data": {
            "text/plain": [
              "        fuma\n",
              "sexo       A veces Frecuente     Nunca\n",
              "  Hombre 0.1111111 0.1111111 0.2222222\n",
              "  Mujer  0.1111111 0.3333333 0.1111111"
            ]
          },
          "metadata": {
            "tags": []
          }
        }
      ]
    },
    {
      "cell_type": "code",
      "metadata": {
        "id": "rrodlAQmsQJ8",
        "colab": {
          "base_uri": "https://localhost:8080/",
          "height": 159
        },
        "outputId": "156ffc9f-d25d-4f5d-bce5-2dfd4c2147dd"
      },
      "source": [
        "addmargins(tabla3)"
      ],
      "execution_count": 20,
      "outputs": [
        {
          "output_type": "display_data",
          "data": {
            "text/plain": [
              "        fuma\n",
              "sexo     A veces   Frecuente Nunca     Sum      \n",
              "  Hombre 0.1111111 0.1111111 0.2222222 0.4444444\n",
              "  Mujer  0.1111111 0.3333333 0.1111111 0.5555556\n",
              "  Sum    0.2222222 0.4444444 0.3333333 1.0000000"
            ],
            "text/latex": "A table: 3 × 4 of type dbl\n\\begin{tabular}{r|llll}\n  & A veces & Frecuente & Nunca & Sum\\\\\n\\hline\n\tHombre & 0.1111111 & 0.1111111 & 0.2222222 & 0.4444444\\\\\n\tMujer & 0.1111111 & 0.3333333 & 0.1111111 & 0.5555556\\\\\n\tSum & 0.2222222 & 0.4444444 & 0.3333333 & 1.0000000\\\\\n\\end{tabular}\n",
            "text/markdown": "\nA table: 3 × 4 of type dbl\n\n| <!--/--> | A veces | Frecuente | Nunca | Sum |\n|---|---|---|---|---|\n| Hombre | 0.1111111 | 0.1111111 | 0.2222222 | 0.4444444 |\n| Mujer | 0.1111111 | 0.3333333 | 0.1111111 | 0.5555556 |\n| Sum | 0.2222222 | 0.4444444 | 0.3333333 | 1.0000000 |\n\n",
            "text/html": [
              "<table class=\"dataframe\">\n",
              "<caption>A table: 3 × 4 of type dbl</caption>\n",
              "<thead>\n",
              "\t<tr><th></th><th scope=col>A veces</th><th scope=col>Frecuente</th><th scope=col>Nunca</th><th scope=col>Sum</th></tr>\n",
              "</thead>\n",
              "<tbody>\n",
              "\t<tr><th scope=row>Hombre</th><td>0.1111111</td><td>0.1111111</td><td>0.2222222</td><td>0.4444444</td></tr>\n",
              "\t<tr><th scope=row>Mujer</th><td>0.1111111</td><td>0.3333333</td><td>0.1111111</td><td>0.5555556</td></tr>\n",
              "\t<tr><th scope=row>Sum</th><td>0.2222222</td><td>0.4444444</td><td>0.3333333</td><td>1.0000000</td></tr>\n",
              "</tbody>\n",
              "</table>\n"
            ]
          },
          "metadata": {
            "tags": []
          }
        }
      ]
    },
    {
      "cell_type": "code",
      "metadata": {
        "id": "kgETZAPbsVKN",
        "colab": {
          "base_uri": "https://localhost:8080/",
          "height": 128
        },
        "outputId": "6956fb0b-2e5a-4712-cf79-8b89e1d15511"
      },
      "source": [
        "addmargins(tabla4, margin=2) # 1 suma por columnas, 2 suma por columnas"
      ],
      "execution_count": 21,
      "outputs": [
        {
          "output_type": "display_data",
          "data": {
            "text/plain": [
              "        fuma\n",
              "sexo     A veces Frecuente Nunca Sum\n",
              "  Hombre 0.25    0.25      0.5   1  \n",
              "  Mujer  0.20    0.60      0.2   1  "
            ],
            "text/latex": "A table: 2 × 4 of type dbl\n\\begin{tabular}{r|llll}\n  & A veces & Frecuente & Nunca & Sum\\\\\n\\hline\n\tHombre & 0.25 & 0.25 & 0.5 & 1\\\\\n\tMujer & 0.20 & 0.60 & 0.2 & 1\\\\\n\\end{tabular}\n",
            "text/markdown": "\nA table: 2 × 4 of type dbl\n\n| <!--/--> | A veces | Frecuente | Nunca | Sum |\n|---|---|---|---|---|\n| Hombre | 0.25 | 0.25 | 0.5 | 1 |\n| Mujer | 0.20 | 0.60 | 0.2 | 1 |\n\n",
            "text/html": [
              "<table class=\"dataframe\">\n",
              "<caption>A table: 2 × 4 of type dbl</caption>\n",
              "<thead>\n",
              "\t<tr><th></th><th scope=col>A veces</th><th scope=col>Frecuente</th><th scope=col>Nunca</th><th scope=col>Sum</th></tr>\n",
              "</thead>\n",
              "<tbody>\n",
              "\t<tr><th scope=row>Hombre</th><td>0.25</td><td>0.25</td><td>0.5</td><td>1</td></tr>\n",
              "\t<tr><th scope=row>Mujer</th><td>0.20</td><td>0.60</td><td>0.2</td><td>1</td></tr>\n",
              "</tbody>\n",
              "</table>\n"
            ]
          },
          "metadata": {
            "tags": []
          }
        }
      ]
    },
    {
      "cell_type": "code",
      "metadata": {
        "colab": {
          "base_uri": "https://localhost:8080/",
          "height": 85
        },
        "id": "gX2TJU3Ak0dJ",
        "outputId": "809db9e3-2cb9-4c8f-b0cd-50ee19732bab"
      },
      "source": [
        "tabla4"
      ],
      "execution_count": 22,
      "outputs": [
        {
          "output_type": "display_data",
          "data": {
            "text/plain": [
              "        fuma\n",
              "sexo     A veces Frecuente Nunca\n",
              "  Hombre    0.25      0.25  0.50\n",
              "  Mujer     0.20      0.60  0.20"
            ]
          },
          "metadata": {
            "tags": []
          }
        }
      ]
    },
    {
      "cell_type": "code",
      "metadata": {
        "colab": {
          "base_uri": "https://localhost:8080/",
          "height": 34
        },
        "id": "Ruw4gTMJqoHU",
        "outputId": "786fd661-8418-4598-f204-b17b3fee2ee1"
      },
      "source": [
        "notas <- c(4,3.5,3.8,4.2,3.2,2.9,3.6,3.3,4.2,3.9)\n",
        "sort(notas)"
      ],
      "execution_count": 23,
      "outputs": [
        {
          "output_type": "display_data",
          "data": {
            "text/plain": [
              " [1] 2.9 3.2 3.3 3.5 3.6 3.8 3.9 4.0 4.2 4.2"
            ],
            "text/latex": "\\begin{enumerate*}\n\\item 2.9\n\\item 3.2\n\\item 3.3\n\\item 3.5\n\\item 3.6\n\\item 3.8\n\\item 3.9\n\\item 4\n\\item 4.2\n\\item 4.2\n\\end{enumerate*}\n",
            "text/markdown": "1. 2.9\n2. 3.2\n3. 3.3\n4. 3.5\n5. 3.6\n6. 3.8\n7. 3.9\n8. 4\n9. 4.2\n10. 4.2\n\n\n",
            "text/html": [
              "<style>\n",
              ".list-inline {list-style: none; margin:0; padding: 0}\n",
              ".list-inline>li {display: inline-block}\n",
              ".list-inline>li:not(:last-child)::after {content: \"\\00b7\"; padding: 0 .5ex}\n",
              "</style>\n",
              "<ol class=list-inline><li>2.9</li><li>3.2</li><li>3.3</li><li>3.5</li><li>3.6</li><li>3.8</li><li>3.9</li><li>4</li><li>4.2</li><li>4.2</li></ol>\n"
            ]
          },
          "metadata": {
            "tags": []
          }
        }
      ]
    }
  ]
}